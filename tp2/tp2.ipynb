{
 "cells": [
  {
   "cell_type": "code",
   "execution_count": 1,
   "metadata": {},
   "outputs": [],
   "source": [
    "import pandas as pd\n",
    "import os\n",
    "import numpy as np\n",
    "import cv2"
   ]
  },
  {
   "cell_type": "markdown",
   "metadata": {},
   "source": [
    "# TP2 : IOU-based Tracking (Bounding-Box Tracker) "
   ]
  },
  {
   "cell_type": "code",
   "execution_count": 2,
   "metadata": {},
   "outputs": [],
   "source": [
    "# class for detection to help with calculations\n",
    "class ObjectInstance:\n",
    "    def __init__(self, frame, obj_id, bb_left, bb_top, bb_width, bb_height,):\n",
    "        self.frame = int(frame)\n",
    "        self.obj_id = int(obj_id)\n",
    "        self.bb_left = float(bb_left)\n",
    "        self.bb_top = float(bb_top)\n",
    "        self.bb_width = float(bb_width)\n",
    "        self.bb_height = float(bb_height)\n",
    "        # self.conf = float(conf)\n",
    "        # self.coord = float(x), float(y), float(z)\n",
    "    \n",
    "    def __repr__(self):\n",
    "        return (f\"ObjectInstance(frame={self.frame}, id={self.obj_id}, \"\n",
    "                f\"bb_left={self.bb_left}, bb_top={self.bb_top}, \"\n",
    "                f\"bb_width={self.bb_width}, bb_height={self.bb_height}, \")\n",
    "\n",
    "# parse file and create object instances\n",
    "def parse_file(file_path, separator=' '):\n",
    "    objects = []\n",
    "    with open(file_path, 'r') as file:\n",
    "        for line in file:\n",
    "            values = line.strip().split(separator)[:6]\n",
    "            instance = ObjectInstance(*values)\n",
    "            objects.append(instance)\n",
    "    return objects\n",
    "\n",
    "# parse file with pandas\n",
    "def parse_file_pd(file_path, separator=' '):\n",
    "    columns = ['frame', 'id', 'bb_left', 'bb_top', 'bb_width', 'bb_height', 'conf', 'x', 'y', 'z']\n",
    "\n",
    "    df = pd.read_csv(file_path, sep=separator, header=None, names=columns)\n",
    "    return df"
   ]
  },
  {
   "cell_type": "code",
   "execution_count": 3,
   "metadata": {},
   "outputs": [
    {
     "name": "stdout",
     "output_type": "stream",
     "text": [
      "[ObjectInstance(frame=1, id=-1, bb_left=1700.0, bb_top=391.0, bb_width=156.0, bb_height=337.0, , ObjectInstance(frame=1, id=-1, bb_left=250.0, bb_top=456.0, bb_width=107.0, bb_height=248.0, , ObjectInstance(frame=1, id=-1, bb_left=1255.0, bb_top=539.0, bb_width=60.0, bb_height=118.0, , ObjectInstance(frame=1, id=-1, bb_left=1288.0, bb_top=459.0, bb_width=73.0, bb_height=199.0, , ObjectInstance(frame=1, id=-1, bb_left=120.0, bb_top=504.0, bb_width=93.0, bb_height=239.0, ]\n"
     ]
    },
    {
     "data": {
      "text/html": [
       "<div>\n",
       "<style scoped>\n",
       "    .dataframe tbody tr th:only-of-type {\n",
       "        vertical-align: middle;\n",
       "    }\n",
       "\n",
       "    .dataframe tbody tr th {\n",
       "        vertical-align: top;\n",
       "    }\n",
       "\n",
       "    .dataframe thead th {\n",
       "        text-align: right;\n",
       "    }\n",
       "</style>\n",
       "<table border=\"1\" class=\"dataframe\">\n",
       "  <thead>\n",
       "    <tr style=\"text-align: right;\">\n",
       "      <th></th>\n",
       "      <th>frame</th>\n",
       "      <th>id</th>\n",
       "      <th>bb_left</th>\n",
       "      <th>bb_top</th>\n",
       "      <th>bb_width</th>\n",
       "      <th>bb_height</th>\n",
       "    </tr>\n",
       "  </thead>\n",
       "  <tbody>\n",
       "    <tr>\n",
       "      <th>0</th>\n",
       "      <td>1</td>\n",
       "      <td>-1</td>\n",
       "      <td>1700</td>\n",
       "      <td>391</td>\n",
       "      <td>156</td>\n",
       "      <td>337</td>\n",
       "    </tr>\n",
       "    <tr>\n",
       "      <th>1</th>\n",
       "      <td>1</td>\n",
       "      <td>-1</td>\n",
       "      <td>250</td>\n",
       "      <td>456</td>\n",
       "      <td>107</td>\n",
       "      <td>248</td>\n",
       "    </tr>\n",
       "    <tr>\n",
       "      <th>2</th>\n",
       "      <td>1</td>\n",
       "      <td>-1</td>\n",
       "      <td>1255</td>\n",
       "      <td>539</td>\n",
       "      <td>60</td>\n",
       "      <td>118</td>\n",
       "    </tr>\n",
       "    <tr>\n",
       "      <th>3</th>\n",
       "      <td>1</td>\n",
       "      <td>-1</td>\n",
       "      <td>1288</td>\n",
       "      <td>459</td>\n",
       "      <td>73</td>\n",
       "      <td>199</td>\n",
       "    </tr>\n",
       "    <tr>\n",
       "      <th>4</th>\n",
       "      <td>1</td>\n",
       "      <td>-1</td>\n",
       "      <td>120</td>\n",
       "      <td>504</td>\n",
       "      <td>93</td>\n",
       "      <td>239</td>\n",
       "    </tr>\n",
       "  </tbody>\n",
       "</table>\n",
       "</div>"
      ],
      "text/plain": [
       "   frame  id  bb_left  bb_top  bb_width  bb_height\n",
       "0      1  -1     1700     391       156        337\n",
       "1      1  -1      250     456       107        248\n",
       "2      1  -1     1255     539        60        118\n",
       "3      1  -1     1288     459        73        199\n",
       "4      1  -1      120     504        93        239"
      ]
     },
     "execution_count": 3,
     "metadata": {},
     "output_type": "execute_result"
    }
   ],
   "source": [
    "# path to the data\n",
    "data_path = \"/home/gautier/scia2/mlvot/ADL-Rundle-6\"\n",
    "\n",
    "# sequences names\n",
    "sequence_public = \"public-dataset\"\n",
    "sequence_yolo5l = \"Yolov5l\"\n",
    "sequence_yolo5s = \"Yolov5s\"\n",
    "\n",
    "# create the path to the file\n",
    "file = f\"det/{sequence_yolo5l}/det.txt\"\n",
    "file_path = os.path.join(data_path, file)\n",
    "\n",
    "# parse the file\n",
    "parsed_objects = parse_file(file_path, ' ')\n",
    "parsed_objects_pd = parse_file_pd(file_path, ' ')\n",
    "parsed_objects_pd.drop(columns=['conf', 'x', 'y', 'z'], inplace=True)\n",
    "\n",
    "# print the first 5 objects for each method\n",
    "print(parsed_objects[:5])\n",
    "parsed_objects_pd.head()"
   ]
  },
  {
   "cell_type": "code",
   "execution_count": 4,
   "metadata": {},
   "outputs": [],
   "source": [
    "from scipy.optimize import linear_sum_assignment\n",
    "\n",
    "# intersection over union\n",
    "def iou_jaccard(obj1 : ObjectInstance, obj2 : ObjectInstance) -> float:\n",
    "    x1, y1, w1, h1 = obj1.bb_left, obj1.bb_top, obj1.bb_width, obj1.bb_height\n",
    "    x2, y2, w2, h2 = obj2.bb_left, obj2.bb_top, obj2.bb_width, obj2.bb_height\n",
    "\n",
    "    xA = max(x1, x2)\n",
    "    yA = max(y1, y2)\n",
    "    xB = min(x1 + w1, x2 + w2)\n",
    "    yB = min(y1 + h1, y2 + h2)\n",
    "    \n",
    "    interArea = max(0, xB - xA) * max(0, yB - yA)\n",
    "    boxAArea = w1 * h1\n",
    "    boxBArea = w2 * h2\n",
    "    iou = interArea / float(boxAArea + boxBArea - interArea)\n",
    "    return iou\n",
    "\n",
    "# compute the similarity matrix\n",
    "def compute_similarity_matrix(tracked : list[ObjectInstance], detected: list[ObjectInstance]) -> np.ndarray:\n",
    "    n = len(tracked)\n",
    "    m = len(detected)\n",
    "    matrix = np.zeros((n, m))\n",
    "    for i in range(n):\n",
    "        for j in range(m):\n",
    "            matrix[i][j] = iou_jaccard(tracked[i], detected[j])\n",
    "    return matrix\n",
    "\n",
    "# Hungarian algorithm\n",
    "def hungarian_algorithm(matrix : np.ndarray) -> list:\n",
    "    row_ind, col_ind = linear_sum_assignment(matrix, maximize=True)\n",
    "    return zip(row_ind, col_ind)"
   ]
  },
  {
   "cell_type": "markdown",
   "metadata": {},
   "source": [
    "### problem encouter\n",
    "\n",
    "to much id : problem in my code i was not following correcly the track management algorithm\n",
    "\n",
    "try to reduce id : increase max lost frames\n",
    "but some id where reuse because sometimes because the max lost frames was to high, i found a middle ground at 20\n",
    "\n",
    "when passing near another bounding box from an old tracked object or a current on the frame the id of one bounding box could change, i add a threshold"
   ]
  },
  {
   "cell_type": "code",
   "execution_count": 5,
   "metadata": {},
   "outputs": [],
   "source": [
    "IOU_THRESHOLD = 0.1\n",
    "MAX_LOST_FRAMES = 30\n",
    "\n",
    "\n",
    "# manage the tracking\n",
    "def track_management(detected_objects : pd.DataFrame, frame_length : int) -> pd.DataFrame:\n",
    "    \n",
    "    # initialize tracked objects\n",
    "    tracked_objects = []\n",
    "    # initialize results with pandas frame\n",
    "    results = pd.DataFrame(columns=['frame', 'id', 'bb_left', 'bb_top', 'bb_width', 'bb_height', 'conf', 'x', 'y', 'z'])\n",
    "\n",
    "    idx = 1\n",
    "    # iter over frames\n",
    "    for frame in range(1,frame_length + 1):\n",
    "        new_tracks = []\n",
    "\n",
    "        # Get detected objects on frame\n",
    "        detected_obj_on_frame = detected_objects[detected_objects['frame'] == frame]\n",
    "        # no object detected on frame\n",
    "        if detected_obj_on_frame.empty:\n",
    "            for track in tracked_objects:\n",
    "                if track.frame > frame - MAX_LOST_FRAMES:\n",
    "                    new_tracks.append(track)\n",
    "\n",
    "        # atleast one object detected on frame\n",
    "        else:\n",
    "            # Create ObjectInstance objects\n",
    "            detected_obj_on_frame = [ObjectInstance(*obj) for obj in detected_obj_on_frame.values]\n",
    "\n",
    "            # compute similarity matrix and matches\n",
    "            similarity_matrix = compute_similarity_matrix(tracked_objects, detected_obj_on_frame)\n",
    "            matches = hungarian_algorithm(similarity_matrix)\n",
    "\n",
    "            # update tracks\n",
    "            matched_detections = []\n",
    "            matched_tracks = []\n",
    "            for i, j in matches:\n",
    "                # matched track\n",
    "                if similarity_matrix[i][j] >= IOU_THRESHOLD:\n",
    "                    matched_detections.append(j)\n",
    "                    matched_tracks.append(i)\n",
    "                    # save track \n",
    "                    old_track = tracked_objects[i]\n",
    "                    # update track information\n",
    "                    new_tracks.append(detected_obj_on_frame[j])\n",
    "                    new_tracks[-1].obj_id = old_track.obj_id\n",
    "                \n",
    "                # # new track\n",
    "                # else:\n",
    "                #     if tracked_objects[i].frame > frame - MAX_LOST_FRAMES:\n",
    "                #         new_tracks.append(tracked_objects[i])\n",
    "                #     new_tracks.append(detected_obj_on_frame[j])\n",
    "                #     new_tracks[-1].obj_id = idx\n",
    "                #     idx += 1\n",
    "\n",
    "            # remove old tracks\n",
    "            for i in range(len(tracked_objects)):\n",
    "                if i not in matched_tracks:\n",
    "                    if tracked_objects[i].frame > frame - MAX_LOST_FRAMES:\n",
    "                        new_tracks.append(tracked_objects[i])\n",
    "            \n",
    "            # add unmatched detections as new tracks\n",
    "            for i in range(len(detected_obj_on_frame)):\n",
    "                if i not in matched_detections:\n",
    "                    new_tracks.append(detected_obj_on_frame[i])\n",
    "                    new_tracks[-1].obj_id = idx\n",
    "                    idx += 1\n",
    "\n",
    "\n",
    "        # update results\n",
    "        for track in new_tracks:\n",
    "            track_df = pd.DataFrame([{'frame': track.frame, 'id': track.obj_id, 'bb_left': track.bb_left, 'bb_top': track.bb_top, 'bb_width': track.bb_width, 'bb_height': track.bb_height, 'conf': 1, 'x': -1, 'y': -1, 'z': -1}])\n",
    "            results = pd.concat([results, track_df], ignore_index=True)\n",
    "\n",
    "        # update old tracked objects with updated tracked objects\n",
    "        tracked_objects = new_tracks\n",
    "\n",
    "    # sort over frame and id\n",
    "    results.sort_values(by=['frame', 'id'], inplace=True)\n",
    "    return results"
   ]
  },
  {
   "cell_type": "code",
   "execution_count": 6,
   "metadata": {},
   "outputs": [],
   "source": [
    "# parse seqinfo into a dictionary\n",
    "def parse_seqinfo(data_path : str) -> dict:\n",
    "    seq_info = {}\n",
    "    with open(os.path.join(data_path, 'seqinfo.ini')) as f:\n",
    "        for line in f:\n",
    "            if '=' in line:\n",
    "                key, value = line.strip().split('=')\n",
    "                seq_info[key] = value\n",
    "    return seq_info\n",
    "\n",
    "\n",
    "def display_tracking_results(results : pd.DataFrame, data_path : str, output_path : str):\n",
    "    # parse seqinfo\n",
    "    seq_info = parse_seqinfo(data_path)\n",
    "\n",
    "    video_path = os.path.join(data_path, 'img1')\n",
    "\n",
    "    # Configure video reader\n",
    "    frame_width = int(seq_info['imWidth'])\n",
    "    frame_height = int(seq_info['imHeight'])\n",
    "    frame_length = int(seq_info['seqLength'])\n",
    "    # frame_length = 10\n",
    "    fps = int(seq_info['frameRate'])\n",
    "    \n",
    "    \n",
    "    fourcc = cv2.VideoWriter_fourcc(*'mp4v')\n",
    "    out = cv2.VideoWriter(output_path, fourcc, fps, (frame_width, frame_height))    \n",
    "\n",
    "    # get results\n",
    "    # results = track_management(tracked_object, frame_length)\n",
    "\n",
    "    # draw bounding boxes\n",
    "    for frame_idx in range(1, frame_length + 1):\n",
    "        frame = cv2.imread(os.path.join(video_path, f'{frame_idx:06d}.jpg'))\n",
    "        tracks = results[results['frame'] == frame_idx]\n",
    "        for track in tracks.values:\n",
    "            x, y, w, h = track[2:6]\n",
    "            cv2.rectangle(frame, (int(x), int(y)), (int(x + w), int(y + h)), (0, 255, 0), 2)\n",
    "            cv2.putText(frame, str(int(track[1])), (int(x), int(y) - 10), cv2.FONT_HERSHEY_SIMPLEX, 0.9, (0, 255, 0), 2)\n",
    "\n",
    "        cv2.imshow('frame', frame)\n",
    "        out.write(frame)\n",
    "\n",
    "        if cv2.waitKey(1) & 0xFF == ord('q'):\n",
    "            break\n",
    "    \n",
    "    out.release()\n",
    "    cv2.destroyAllWindows()\n",
    "\n"
   ]
  },
  {
   "cell_type": "code",
   "execution_count": 7,
   "metadata": {},
   "outputs": [
    {
     "name": "stderr",
     "output_type": "stream",
     "text": [
      "/tmp/ipykernel_6177/2751531811.py:74: FutureWarning: The behavior of DataFrame concatenation with empty or all-NA entries is deprecated. In a future version, this will no longer exclude empty or all-NA columns when determining the result dtypes. To retain the old behavior, exclude the relevant entries before the concat operation.\n",
      "  results = pd.concat([results, track_df], ignore_index=True)\n"
     ]
    }
   ],
   "source": [
    "results = track_management(parsed_objects_pd, int(parse_seqinfo(data_path)['seqLength']))"
   ]
  },
  {
   "cell_type": "code",
   "execution_count": 15,
   "metadata": {},
   "outputs": [
    {
     "data": {
      "text/plain": [
       "83"
      ]
     },
     "execution_count": 15,
     "metadata": {},
     "output_type": "execute_result"
    }
   ],
   "source": [
    "results.sort_values(by=['id'], ascending=False).iloc[0][\"id\"]"
   ]
  },
  {
   "cell_type": "code",
   "execution_count": 9,
   "metadata": {},
   "outputs": [
    {
     "name": "stderr",
     "output_type": "stream",
     "text": [
      "/tmp/ipykernel_6177/2751531811.py:74: FutureWarning: The behavior of DataFrame concatenation with empty or all-NA entries is deprecated. In a future version, this will no longer exclude empty or all-NA columns when determining the result dtypes. To retain the old behavior, exclude the relevant entries before the concat operation.\n",
      "  results = pd.concat([results, track_df], ignore_index=True)\n"
     ]
    },
    {
     "name": "stdout",
     "output_type": "stream",
     "text": [
      "Threshold: 0.1, Frame: 10, ID: 109\n"
     ]
    },
    {
     "name": "stderr",
     "output_type": "stream",
     "text": [
      "/tmp/ipykernel_6177/2751531811.py:74: FutureWarning: The behavior of DataFrame concatenation with empty or all-NA entries is deprecated. In a future version, this will no longer exclude empty or all-NA columns when determining the result dtypes. To retain the old behavior, exclude the relevant entries before the concat operation.\n",
      "  results = pd.concat([results, track_df], ignore_index=True)\n"
     ]
    },
    {
     "name": "stdout",
     "output_type": "stream",
     "text": [
      "Threshold: 0.1, Frame: 20, ID: 83\n"
     ]
    },
    {
     "name": "stderr",
     "output_type": "stream",
     "text": [
      "/tmp/ipykernel_6177/2751531811.py:74: FutureWarning: The behavior of DataFrame concatenation with empty or all-NA entries is deprecated. In a future version, this will no longer exclude empty or all-NA columns when determining the result dtypes. To retain the old behavior, exclude the relevant entries before the concat operation.\n",
      "  results = pd.concat([results, track_df], ignore_index=True)\n"
     ]
    },
    {
     "name": "stdout",
     "output_type": "stream",
     "text": [
      "Threshold: 0.1, Frame: 30, ID: 70\n"
     ]
    },
    {
     "name": "stderr",
     "output_type": "stream",
     "text": [
      "/tmp/ipykernel_6177/2751531811.py:74: FutureWarning: The behavior of DataFrame concatenation with empty or all-NA entries is deprecated. In a future version, this will no longer exclude empty or all-NA columns when determining the result dtypes. To retain the old behavior, exclude the relevant entries before the concat operation.\n",
      "  results = pd.concat([results, track_df], ignore_index=True)\n"
     ]
    },
    {
     "name": "stdout",
     "output_type": "stream",
     "text": [
      "Threshold: 0.1, Frame: 40, ID: 61\n"
     ]
    },
    {
     "name": "stderr",
     "output_type": "stream",
     "text": [
      "/tmp/ipykernel_6177/2751531811.py:74: FutureWarning: The behavior of DataFrame concatenation with empty or all-NA entries is deprecated. In a future version, this will no longer exclude empty or all-NA columns when determining the result dtypes. To retain the old behavior, exclude the relevant entries before the concat operation.\n",
      "  results = pd.concat([results, track_df], ignore_index=True)\n"
     ]
    },
    {
     "name": "stdout",
     "output_type": "stream",
     "text": [
      "Threshold: 0.1, Frame: 50, ID: 57\n"
     ]
    },
    {
     "name": "stderr",
     "output_type": "stream",
     "text": [
      "/tmp/ipykernel_6177/2751531811.py:74: FutureWarning: The behavior of DataFrame concatenation with empty or all-NA entries is deprecated. In a future version, this will no longer exclude empty or all-NA columns when determining the result dtypes. To retain the old behavior, exclude the relevant entries before the concat operation.\n",
      "  results = pd.concat([results, track_df], ignore_index=True)\n"
     ]
    },
    {
     "name": "stdout",
     "output_type": "stream",
     "text": [
      "Threshold: 0.1, Frame: 60, ID: 55\n"
     ]
    },
    {
     "name": "stderr",
     "output_type": "stream",
     "text": [
      "/tmp/ipykernel_6177/2751531811.py:74: FutureWarning: The behavior of DataFrame concatenation with empty or all-NA entries is deprecated. In a future version, this will no longer exclude empty or all-NA columns when determining the result dtypes. To retain the old behavior, exclude the relevant entries before the concat operation.\n",
      "  results = pd.concat([results, track_df], ignore_index=True)\n"
     ]
    },
    {
     "name": "stdout",
     "output_type": "stream",
     "text": [
      "Threshold: 0.1, Frame: 70, ID: 48\n"
     ]
    },
    {
     "name": "stderr",
     "output_type": "stream",
     "text": [
      "/tmp/ipykernel_6177/2751531811.py:74: FutureWarning: The behavior of DataFrame concatenation with empty or all-NA entries is deprecated. In a future version, this will no longer exclude empty or all-NA columns when determining the result dtypes. To retain the old behavior, exclude the relevant entries before the concat operation.\n",
      "  results = pd.concat([results, track_df], ignore_index=True)\n"
     ]
    },
    {
     "name": "stdout",
     "output_type": "stream",
     "text": [
      "Threshold: 0.1, Frame: 80, ID: 48\n"
     ]
    },
    {
     "name": "stderr",
     "output_type": "stream",
     "text": [
      "/tmp/ipykernel_6177/2751531811.py:74: FutureWarning: The behavior of DataFrame concatenation with empty or all-NA entries is deprecated. In a future version, this will no longer exclude empty or all-NA columns when determining the result dtypes. To retain the old behavior, exclude the relevant entries before the concat operation.\n",
      "  results = pd.concat([results, track_df], ignore_index=True)\n"
     ]
    },
    {
     "name": "stdout",
     "output_type": "stream",
     "text": [
      "Threshold: 0.1, Frame: 90, ID: 47\n"
     ]
    },
    {
     "name": "stderr",
     "output_type": "stream",
     "text": [
      "/tmp/ipykernel_6177/2751531811.py:74: FutureWarning: The behavior of DataFrame concatenation with empty or all-NA entries is deprecated. In a future version, this will no longer exclude empty or all-NA columns when determining the result dtypes. To retain the old behavior, exclude the relevant entries before the concat operation.\n",
      "  results = pd.concat([results, track_df], ignore_index=True)\n"
     ]
    },
    {
     "name": "stdout",
     "output_type": "stream",
     "text": [
      "Threshold: 0.1, Frame: 100, ID: 47\n"
     ]
    },
    {
     "name": "stderr",
     "output_type": "stream",
     "text": [
      "/tmp/ipykernel_6177/2751531811.py:74: FutureWarning: The behavior of DataFrame concatenation with empty or all-NA entries is deprecated. In a future version, this will no longer exclude empty or all-NA columns when determining the result dtypes. To retain the old behavior, exclude the relevant entries before the concat operation.\n",
      "  results = pd.concat([results, track_df], ignore_index=True)\n"
     ]
    },
    {
     "name": "stdout",
     "output_type": "stream",
     "text": [
      "Threshold: 0.2, Frame: 10, ID: 113\n"
     ]
    },
    {
     "name": "stderr",
     "output_type": "stream",
     "text": [
      "/tmp/ipykernel_6177/2751531811.py:74: FutureWarning: The behavior of DataFrame concatenation with empty or all-NA entries is deprecated. In a future version, this will no longer exclude empty or all-NA columns when determining the result dtypes. To retain the old behavior, exclude the relevant entries before the concat operation.\n",
      "  results = pd.concat([results, track_df], ignore_index=True)\n"
     ]
    },
    {
     "name": "stdout",
     "output_type": "stream",
     "text": [
      "Threshold: 0.2, Frame: 20, ID: 92\n"
     ]
    },
    {
     "name": "stderr",
     "output_type": "stream",
     "text": [
      "/tmp/ipykernel_6177/2751531811.py:74: FutureWarning: The behavior of DataFrame concatenation with empty or all-NA entries is deprecated. In a future version, this will no longer exclude empty or all-NA columns when determining the result dtypes. To retain the old behavior, exclude the relevant entries before the concat operation.\n",
      "  results = pd.concat([results, track_df], ignore_index=True)\n"
     ]
    },
    {
     "name": "stdout",
     "output_type": "stream",
     "text": [
      "Threshold: 0.2, Frame: 30, ID: 79\n"
     ]
    },
    {
     "name": "stderr",
     "output_type": "stream",
     "text": [
      "/tmp/ipykernel_6177/2751531811.py:74: FutureWarning: The behavior of DataFrame concatenation with empty or all-NA entries is deprecated. In a future version, this will no longer exclude empty or all-NA columns when determining the result dtypes. To retain the old behavior, exclude the relevant entries before the concat operation.\n",
      "  results = pd.concat([results, track_df], ignore_index=True)\n"
     ]
    },
    {
     "name": "stdout",
     "output_type": "stream",
     "text": [
      "Threshold: 0.2, Frame: 40, ID: 71\n"
     ]
    },
    {
     "name": "stderr",
     "output_type": "stream",
     "text": [
      "/tmp/ipykernel_6177/2751531811.py:74: FutureWarning: The behavior of DataFrame concatenation with empty or all-NA entries is deprecated. In a future version, this will no longer exclude empty or all-NA columns when determining the result dtypes. To retain the old behavior, exclude the relevant entries before the concat operation.\n",
      "  results = pd.concat([results, track_df], ignore_index=True)\n"
     ]
    },
    {
     "name": "stdout",
     "output_type": "stream",
     "text": [
      "Threshold: 0.2, Frame: 50, ID: 67\n"
     ]
    },
    {
     "name": "stderr",
     "output_type": "stream",
     "text": [
      "/tmp/ipykernel_6177/2751531811.py:74: FutureWarning: The behavior of DataFrame concatenation with empty or all-NA entries is deprecated. In a future version, this will no longer exclude empty or all-NA columns when determining the result dtypes. To retain the old behavior, exclude the relevant entries before the concat operation.\n",
      "  results = pd.concat([results, track_df], ignore_index=True)\n"
     ]
    },
    {
     "name": "stdout",
     "output_type": "stream",
     "text": [
      "Threshold: 0.2, Frame: 60, ID: 65\n"
     ]
    },
    {
     "name": "stderr",
     "output_type": "stream",
     "text": [
      "/tmp/ipykernel_6177/2751531811.py:74: FutureWarning: The behavior of DataFrame concatenation with empty or all-NA entries is deprecated. In a future version, this will no longer exclude empty or all-NA columns when determining the result dtypes. To retain the old behavior, exclude the relevant entries before the concat operation.\n",
      "  results = pd.concat([results, track_df], ignore_index=True)\n"
     ]
    },
    {
     "name": "stdout",
     "output_type": "stream",
     "text": [
      "Threshold: 0.2, Frame: 70, ID: 60\n"
     ]
    },
    {
     "name": "stderr",
     "output_type": "stream",
     "text": [
      "/tmp/ipykernel_6177/2751531811.py:74: FutureWarning: The behavior of DataFrame concatenation with empty or all-NA entries is deprecated. In a future version, this will no longer exclude empty or all-NA columns when determining the result dtypes. To retain the old behavior, exclude the relevant entries before the concat operation.\n",
      "  results = pd.concat([results, track_df], ignore_index=True)\n"
     ]
    },
    {
     "name": "stdout",
     "output_type": "stream",
     "text": [
      "Threshold: 0.2, Frame: 80, ID: 58\n"
     ]
    },
    {
     "name": "stderr",
     "output_type": "stream",
     "text": [
      "/tmp/ipykernel_6177/2751531811.py:74: FutureWarning: The behavior of DataFrame concatenation with empty or all-NA entries is deprecated. In a future version, this will no longer exclude empty or all-NA columns when determining the result dtypes. To retain the old behavior, exclude the relevant entries before the concat operation.\n",
      "  results = pd.concat([results, track_df], ignore_index=True)\n"
     ]
    },
    {
     "name": "stdout",
     "output_type": "stream",
     "text": [
      "Threshold: 0.2, Frame: 90, ID: 57\n"
     ]
    },
    {
     "name": "stderr",
     "output_type": "stream",
     "text": [
      "/tmp/ipykernel_6177/2751531811.py:74: FutureWarning: The behavior of DataFrame concatenation with empty or all-NA entries is deprecated. In a future version, this will no longer exclude empty or all-NA columns when determining the result dtypes. To retain the old behavior, exclude the relevant entries before the concat operation.\n",
      "  results = pd.concat([results, track_df], ignore_index=True)\n"
     ]
    },
    {
     "name": "stdout",
     "output_type": "stream",
     "text": [
      "Threshold: 0.2, Frame: 100, ID: 56\n"
     ]
    },
    {
     "name": "stderr",
     "output_type": "stream",
     "text": [
      "/tmp/ipykernel_6177/2751531811.py:74: FutureWarning: The behavior of DataFrame concatenation with empty or all-NA entries is deprecated. In a future version, this will no longer exclude empty or all-NA columns when determining the result dtypes. To retain the old behavior, exclude the relevant entries before the concat operation.\n",
      "  results = pd.concat([results, track_df], ignore_index=True)\n"
     ]
    },
    {
     "name": "stdout",
     "output_type": "stream",
     "text": [
      "Threshold: 0.3, Frame: 10, ID: 119\n"
     ]
    },
    {
     "name": "stderr",
     "output_type": "stream",
     "text": [
      "/tmp/ipykernel_6177/2751531811.py:74: FutureWarning: The behavior of DataFrame concatenation with empty or all-NA entries is deprecated. In a future version, this will no longer exclude empty or all-NA columns when determining the result dtypes. To retain the old behavior, exclude the relevant entries before the concat operation.\n",
      "  results = pd.concat([results, track_df], ignore_index=True)\n"
     ]
    },
    {
     "name": "stdout",
     "output_type": "stream",
     "text": [
      "Threshold: 0.3, Frame: 20, ID: 100\n"
     ]
    },
    {
     "name": "stderr",
     "output_type": "stream",
     "text": [
      "/tmp/ipykernel_6177/2751531811.py:74: FutureWarning: The behavior of DataFrame concatenation with empty or all-NA entries is deprecated. In a future version, this will no longer exclude empty or all-NA columns when determining the result dtypes. To retain the old behavior, exclude the relevant entries before the concat operation.\n",
      "  results = pd.concat([results, track_df], ignore_index=True)\n"
     ]
    },
    {
     "name": "stdout",
     "output_type": "stream",
     "text": [
      "Threshold: 0.3, Frame: 30, ID: 89\n"
     ]
    },
    {
     "name": "stderr",
     "output_type": "stream",
     "text": [
      "/tmp/ipykernel_6177/2751531811.py:74: FutureWarning: The behavior of DataFrame concatenation with empty or all-NA entries is deprecated. In a future version, this will no longer exclude empty or all-NA columns when determining the result dtypes. To retain the old behavior, exclude the relevant entries before the concat operation.\n",
      "  results = pd.concat([results, track_df], ignore_index=True)\n"
     ]
    },
    {
     "name": "stdout",
     "output_type": "stream",
     "text": [
      "Threshold: 0.3, Frame: 40, ID: 82\n"
     ]
    },
    {
     "name": "stderr",
     "output_type": "stream",
     "text": [
      "/tmp/ipykernel_6177/2751531811.py:74: FutureWarning: The behavior of DataFrame concatenation with empty or all-NA entries is deprecated. In a future version, this will no longer exclude empty or all-NA columns when determining the result dtypes. To retain the old behavior, exclude the relevant entries before the concat operation.\n",
      "  results = pd.concat([results, track_df], ignore_index=True)\n"
     ]
    },
    {
     "name": "stdout",
     "output_type": "stream",
     "text": [
      "Threshold: 0.3, Frame: 50, ID: 78\n"
     ]
    },
    {
     "name": "stderr",
     "output_type": "stream",
     "text": [
      "/tmp/ipykernel_6177/2751531811.py:74: FutureWarning: The behavior of DataFrame concatenation with empty or all-NA entries is deprecated. In a future version, this will no longer exclude empty or all-NA columns when determining the result dtypes. To retain the old behavior, exclude the relevant entries before the concat operation.\n",
      "  results = pd.concat([results, track_df], ignore_index=True)\n"
     ]
    },
    {
     "name": "stdout",
     "output_type": "stream",
     "text": [
      "Threshold: 0.3, Frame: 60, ID: 77\n"
     ]
    },
    {
     "name": "stderr",
     "output_type": "stream",
     "text": [
      "/tmp/ipykernel_6177/2751531811.py:74: FutureWarning: The behavior of DataFrame concatenation with empty or all-NA entries is deprecated. In a future version, this will no longer exclude empty or all-NA columns when determining the result dtypes. To retain the old behavior, exclude the relevant entries before the concat operation.\n",
      "  results = pd.concat([results, track_df], ignore_index=True)\n"
     ]
    },
    {
     "name": "stdout",
     "output_type": "stream",
     "text": [
      "Threshold: 0.3, Frame: 70, ID: 70\n"
     ]
    },
    {
     "name": "stderr",
     "output_type": "stream",
     "text": [
      "/tmp/ipykernel_6177/2751531811.py:74: FutureWarning: The behavior of DataFrame concatenation with empty or all-NA entries is deprecated. In a future version, this will no longer exclude empty or all-NA columns when determining the result dtypes. To retain the old behavior, exclude the relevant entries before the concat operation.\n",
      "  results = pd.concat([results, track_df], ignore_index=True)\n"
     ]
    },
    {
     "name": "stdout",
     "output_type": "stream",
     "text": [
      "Threshold: 0.3, Frame: 80, ID: 68\n"
     ]
    },
    {
     "name": "stderr",
     "output_type": "stream",
     "text": [
      "/tmp/ipykernel_6177/2751531811.py:74: FutureWarning: The behavior of DataFrame concatenation with empty or all-NA entries is deprecated. In a future version, this will no longer exclude empty or all-NA columns when determining the result dtypes. To retain the old behavior, exclude the relevant entries before the concat operation.\n",
      "  results = pd.concat([results, track_df], ignore_index=True)\n"
     ]
    },
    {
     "name": "stdout",
     "output_type": "stream",
     "text": [
      "Threshold: 0.3, Frame: 90, ID: 68\n"
     ]
    },
    {
     "name": "stderr",
     "output_type": "stream",
     "text": [
      "/tmp/ipykernel_6177/2751531811.py:74: FutureWarning: The behavior of DataFrame concatenation with empty or all-NA entries is deprecated. In a future version, this will no longer exclude empty or all-NA columns when determining the result dtypes. To retain the old behavior, exclude the relevant entries before the concat operation.\n",
      "  results = pd.concat([results, track_df], ignore_index=True)\n"
     ]
    },
    {
     "name": "stdout",
     "output_type": "stream",
     "text": [
      "Threshold: 0.3, Frame: 100, ID: 67\n"
     ]
    }
   ],
   "source": [
    "def run_video(data_path, output_path):\n",
    "    results = track_management(parsed_objects_pd, int(parse_seqinfo(data_path)['seqLength']))\n",
    "    display_tracking_results(results, data_path, output_path)\n",
    "    return results\n",
    "\n",
    "output_video = \"output_video/\"\n",
    "params_frames = [10, 20, 30, 40, 50, 60, 70, 80, 90, 100]\n",
    "params_threshold = [0.1, 0.2, 0.3]\n",
    "\n",
    "history = []\n",
    "\n",
    "\n",
    "for threshold in params_threshold:\n",
    "    history_frame = []\n",
    "    for frame in params_frames:\n",
    "        IOU_THRESHOLD = threshold\n",
    "        MAX_LOST_FRAMES = frame\n",
    "        results = track_management(parsed_objects_pd, int(parse_seqinfo(data_path)['seqLength']))\n",
    "        idmax = results.sort_values(by=['id'], ascending=False).iloc[0][\"id\"]\n",
    "        history_frame.append(idmax)\n",
    "        print(f\"Threshold: {threshold}, Frame: {frame}, ID: {idmax}\")\n",
    "    history.append(history_frame)\n"
   ]
  },
  {
   "cell_type": "code",
   "execution_count": 10,
   "metadata": {},
   "outputs": [],
   "source": [
    "gt_path = \"/home/gautier/scia2/mlvot/ADL-Rundle-6/gt/gt.txt\"\n",
    "gt = parse_file_pd(gt_path, ',')\n",
    "gt.drop(columns=['conf', 'x', 'y', 'z'], inplace=True)\n",
    "id_gt = gt.sort_values(by=['id'], ascending=False).iloc[0][\"id\"]"
   ]
  },
  {
   "cell_type": "code",
   "execution_count": 11,
   "metadata": {},
   "outputs": [
    {
     "data": {
      "image/png": "[encoded data removed]",
      "text/plain": [
       "<Figure size 640x480 with 1 Axes>"
      ]
     },
     "metadata": {},
     "output_type": "display_data"
    }
   ],
   "source": [
    "import matplotlib.pyplot as plt\n",
    "\n",
    "\n",
    "plt.plot(params_frames, history[0], label=f\"Threshold: {params_threshold[0]}\")\n",
    "plt.plot(params_frames, history[1], label=f\"Threshold: {params_threshold[1]}\")\n",
    "plt.plot(params_frames, history[2], label=f\"Threshold: {params_threshold[2]}\")\n",
    "plt.axhline(y=id_gt, color='r', linestyle='-', label=\"Ground Truth\")\n",
    "plt.xlabel('Max Lost Frames')\n",
    "plt.ylabel('Max ID')\n",
    "plt.title('Max ID vs Max Lost Frames')\n",
    "plt.legend()\n",
    "plt.show()"
   ]
  },
  {
   "cell_type": "code",
   "execution_count": 8,
   "metadata": {},
   "outputs": [
    {
     "name": "stderr",
     "output_type": "stream",
     "text": [
      "/tmp/ipykernel_6177/2751531811.py:74: FutureWarning: The behavior of DataFrame concatenation with empty or all-NA entries is deprecated. In a future version, this will no longer exclude empty or all-NA columns when determining the result dtypes. To retain the old behavior, exclude the relevant entries before the concat operation.\n",
      "  results = pd.concat([results, track_df], ignore_index=True)\n"
     ]
    }
   ],
   "source": [
    "IOU_THRESHOLD = 0.1\n",
    "MAX_LOST_FRAMES = 30\n",
    "results = track_management(parsed_objects_pd, int(parse_seqinfo(data_path)['seqLength']))\n",
    "display_tracking_results(results, data_path, \"output_video/tp2_F20.mp4\")\n",
    "        "
   ]
  },
  {
   "cell_type": "code",
   "execution_count": 8,
   "metadata": {},
   "outputs": [],
   "source": [
    "# Save tracking results in a txt file\n",
    "def save_tracking_results(tracked_object : pd.DataFrame, output_path : str):\n",
    "    tracked_object.to_csv(output_path, sep=',', index=False, header=False)\n",
    "\n",
    "\n",
    "output_path = f'{sequence_yolo5l}.txt'\n",
    "\n",
    "save_tracking_results(results, output_path)"
   ]
  },
  {
   "cell_type": "markdown",
   "metadata": {},
   "source": [
    "# TP3 : Kalman-Guided IoU Tracking (Bounding-Box Tracker)"
   ]
  },
  {
   "cell_type": "code",
   "execution_count": 16,
   "metadata": {},
   "outputs": [],
   "source": [
    "import numpy as np\n",
    "\n",
    "class KalmanFilter:\n",
    "    def __init__(self, dt: float, u_x: float, u_y:float, std_acc: float, x_std_meas: float, y_std_meas: float):\n",
    "\n",
    "        self.dt = dt\n",
    "        self.u = np.array([[u_x], [u_y]])\n",
    "        \n",
    "        self.xk = np.array([0] * 4) # State vector [x, y, vx, vy]\n",
    "        self.A = np.eye(4) # State transition matrix\n",
    "        self.A[0][2] = self.A[1][3] = self.dt\n",
    "\n",
    "        self.B = np.array([[0.5 * self.dt ** 2, 0], [0, 0.5 * self.dt ** 2], [self.dt, 0], [0, self.dt]]) # Control matrix\n",
    "\n",
    "        self.H = np.array([[1, 0, 0, 0], [0, 1, 0, 0]])\n",
    "\n",
    "        self.Q = np.array([\n",
    "            [0.25 * self.dt ** 4, 0, 0.5 * self.dt ** 3, 0], \n",
    "            [0, 0.25 * self.dt ** 4, 0, 0.5 * self.dt ** 3], \n",
    "            [0.5 * self.dt ** 3, 0, self.dt ** 2, 0], \n",
    "            [0, 0.5 * self.dt ** 3, 0, self.dt ** 2]\n",
    "            ]) * std_acc ** 2\n",
    "        \n",
    "\n",
    "        self.R = np.array([\n",
    "            [x_std_meas ** 2, 0],\n",
    "            [0, y_std_meas ** 2]\n",
    "            ]) \n",
    "        \n",
    "        self.P = np.eye(4) # Covariance matrix\n",
    "\n",
    "    def predict(self):\n",
    "        # Update time state\n",
    "        self.xk = self.A @ self.xk + self.B @ self.u\n",
    "\n",
    "        # Calculate error covariance\n",
    "        self.P = self.A @ self.P @ self.A.T + self.Q\n",
    "\n",
    "    def update(self, zk: np.array):\n",
    "\n",
    "        # Compute Kalman gain\n",
    "        Sk = self.H @ self.P @ self.H.T + self.R\n",
    "        Kk = self.P @ self.H.T @ np.linalg.inv(Sk)\n",
    "\n",
    "        # Update state estimate\n",
    "        a = Kk @ (zk - self.H @ self.xk)\n",
    "        c = a[:, 0].reshape(-1, 1)\n",
    "        self.xk = self.xk + c\n",
    "        self.P = (np.eye(4) - Kk @ self.H) @ self.P"
   ]
  },
  {
   "cell_type": "code",
   "execution_count": 13,
   "metadata": {},
   "outputs": [],
   "source": [
    "class Track:\n",
    "    def __init__(self, frame, obj_id, bb_left, bb_top, bb_width, bb_height,):\n",
    "        self.frame = int(frame)\n",
    "        self.obj_id = int(obj_id)\n",
    "        self.bb_left = float(bb_left)\n",
    "        self.bb_top = float(bb_top)\n",
    "        self.bb_width = float(bb_width)\n",
    "        self.bb_height = float(bb_height)\n",
    "        # self.conf = float(conf)\n",
    "        # self.coord = float(x), float(y), float(z)\n",
    "        self.kf = KalmanFilter(dt=0.1, u_x=1, u_y=1, std_acc=1, x_std_meas=0.1, y_std_meas=0.1)\n",
    "\n",
    "        self.cx = self.bb_left + self.bb_width / 2\n",
    "        self.cy = self.bb_top + self.bb_height / 2\n",
    "\n",
    "        self.kf.xk = np.array([[self.cx], [self.cy], [0], [0]])\n",
    "\n",
    "    \n",
    "    def __repr__(self):\n",
    "        return (f\"ObjectInstance(frame={self.frame}, id={self.obj_id}, \"\n",
    "                f\"bb_left={self.bb_left}, bb_top={self.bb_top}, \"\n",
    "                f\"bb_width={self.bb_width}, bb_height={self.bb_height}, \")\n",
    "    \n",
    "    def predict(self):\n",
    "        self.kf.predict()\n",
    "\n",
    "        center = self.kf.xk[:2]\n",
    "\n",
    "        self.bb_left = center[0] - self.bb_width / 2\n",
    "        self.bb_top = center[1] - self.bb_height / 2\n",
    "\n",
    "    def update(self, track):\n",
    "\n",
    "        centroid = [track.cx, track.cy]\n",
    "        self.kf.update(centroid)\n",
    "        \n",
    "        self.frame = track.frame\n",
    "        self.cx = track.cx\n",
    "        self.cy = track.cy\n",
    "\n",
    "        self.bb_left = track.bb_left\n",
    "        self.bb_top = track.bb_top\n",
    "        self.bb_width = track.bb_width\n",
    "        self.bb_height = track.bb_height"
   ]
  },
  {
   "cell_type": "code",
   "execution_count": 14,
   "metadata": {},
   "outputs": [],
   "source": [
    "IOU_THRESHOLD = 0.1\n",
    "MAX_LOST_FRAMES = 10\n",
    "\n",
    "def track_management_kalman(detected_objects : pd.DataFrame, frame_length : int) -> pd.DataFrame:\n",
    "    # initialize tracked objects\n",
    "    tracked_objects = []\n",
    "    # initialize results with pandas frame\n",
    "    results = pd.DataFrame(columns=['frame', 'id', 'bb_left', 'bb_top', 'bb_width', 'bb_height', 'conf', 'x', 'y', 'z'])\n",
    "    # initalize kalman filter dictionnary\n",
    "    kalman_filters = {}\n",
    "\n",
    "    # frame_length = 10\n",
    "\n",
    "    idx = 1\n",
    "    # iter over frames\n",
    "    for frame in range(1,frame_length + 1):\n",
    "        # print(f\"Frame {frame}/{frame_length}\")\n",
    "        new_tracks = []\n",
    "\n",
    "        # Get detected objects on frame\n",
    "        detected_obj_on_frame = detected_objects[detected_objects['frame'] == frame]\n",
    "\n",
    "        \n",
    "        # predict kalman filter and update tracks\n",
    "        for track in tracked_objects:\n",
    "            # predict kalman filter if not first appearance\n",
    "            track.predict()\n",
    "\n",
    "            # create kalman filter if first appearance\n",
    "            # else:\n",
    "            #     kalman_filter = create_KalmanFilter()\n",
    "            #     kalman_filter.xk[:][:2][:] = track.get_centroid()\n",
    "            #     print(kalman_filter.xk)\n",
    "            #     kalman_filters[track.obj_id] = kalman_filter\n",
    "\n",
    "        # no object detected on frame\n",
    "        if detected_obj_on_frame.empty:\n",
    "            for track in tracked_objects:\n",
    "                if track.frame > frame - MAX_LOST_FRAMES:\n",
    "                    new_tracks.append(track)\n",
    "\n",
    "        # atleast one object detected on frame\n",
    "        else:\n",
    "            # Create ObjectInstance objects\n",
    "            detected_obj_on_frame = [Track(*obj) for obj in detected_obj_on_frame.values]\n",
    "\n",
    "            # compute similarity matrix and matches\n",
    "            similarity_matrix = compute_similarity_matrix(tracked_objects, detected_obj_on_frame)\n",
    "            matches = hungarian_algorithm(similarity_matrix)\n",
    "\n",
    "            # update tracks\n",
    "            matched_detections = []\n",
    "            matched_tracks = []\n",
    "            for i, j in matches:\n",
    "                # matched track\n",
    "                if similarity_matrix[i][j] >= IOU_THRESHOLD:\n",
    "                    matched_detections.append(j)\n",
    "                    matched_tracks.append(i)\n",
    "                    # save track \n",
    "                    tracked_objects[i].update(detected_obj_on_frame[j])\n",
    "                    # update track information\n",
    "                    new_tracks.append(tracked_objects[i])\n",
    "\n",
    "            # remove old tracks\n",
    "            for i in range(len(tracked_objects)):\n",
    "                if i not in matched_tracks:\n",
    "                    if tracked_objects[i].frame > frame - MAX_LOST_FRAMES:\n",
    "                        new_tracks.append(tracked_objects[i])\n",
    "            \n",
    "            # add unmatched detections as new tracks\n",
    "            for i in range(len(detected_obj_on_frame)):\n",
    "                if i not in matched_detections:\n",
    "                    new_tracks.append(detected_obj_on_frame[i])\n",
    "                    new_tracks[-1].obj_id = idx\n",
    "                    idx += 1\n",
    "\n",
    "        # update results\n",
    "        for track in new_tracks:\n",
    "            track_df = pd.DataFrame([{'frame': track.frame, 'id': track.obj_id, 'bb_left': track.bb_left, 'bb_top': track.bb_top, 'bb_width': track.bb_width, 'bb_height': track.bb_height, 'conf': 1, 'x': -1, 'y': -1, 'z': -1}])\n",
    "            results = pd.concat([results, track_df], ignore_index=True)\n",
    "\n",
    "        # update old tracked objects with updated tracked objects\n",
    "        tracked_objects = new_tracks\n",
    "\n",
    "    # sort over frame and id\n",
    "    results.sort_values(by=['frame', 'id'], inplace=True)\n",
    "    return results"
   ]
  },
  {
   "cell_type": "code",
   "execution_count": 17,
   "metadata": {},
   "outputs": [
    {
     "name": "stderr",
     "output_type": "stream",
     "text": [
      "/tmp/ipykernel_6177/939321554.py:80: FutureWarning: The behavior of DataFrame concatenation with empty or all-NA entries is deprecated. In a future version, this will no longer exclude empty or all-NA columns when determining the result dtypes. To retain the old behavior, exclude the relevant entries before the concat operation.\n",
      "  results = pd.concat([results, track_df], ignore_index=True)\n",
      "/tmp/ipykernel_6177/2295919319.py:16: DeprecationWarning: Conversion of an array with ndim > 0 to a scalar is deprecated, and will error in future. Ensure you extract a single element from your array before performing this operation. (Deprecated NumPy 1.25.)\n",
      "  iou = interArea / float(boxAArea + boxBArea - interArea)\n",
      "/tmp/ipykernel_6177/2295919319.py:26: DeprecationWarning: Conversion of an array with ndim > 0 to a scalar is deprecated, and will error in future. Ensure you extract a single element from your array before performing this operation. (Deprecated NumPy 1.25.)\n",
      "  matrix[i][j] = iou_jaccard(tracked[i], detected[j])\n"
     ]
    }
   ],
   "source": [
    "results_kalman = track_management_kalman(parsed_objects_pd, int(parse_seqinfo(data_path)['seqLength']))"
   ]
  },
  {
   "cell_type": "code",
   "execution_count": 18,
   "metadata": {},
   "outputs": [
    {
     "name": "stderr",
     "output_type": "stream",
     "text": [
      "/tmp/ipykernel_6177/3391112199.py:38: DeprecationWarning: Conversion of an array with ndim > 0 to a scalar is deprecated, and will error in future. Ensure you extract a single element from your array before performing this operation. (Deprecated NumPy 1.25.)\n",
      "  cv2.rectangle(frame, (int(x), int(y)), (int(x + w), int(y + h)), (0, 255, 0), 2)\n",
      "/tmp/ipykernel_6177/3391112199.py:39: DeprecationWarning: Conversion of an array with ndim > 0 to a scalar is deprecated, and will error in future. Ensure you extract a single element from your array before performing this operation. (Deprecated NumPy 1.25.)\n",
      "  cv2.putText(frame, str(int(track[1])), (int(x), int(y) - 10), cv2.FONT_HERSHEY_SIMPLEX, 0.9, (0, 255, 0), 2)\n"
     ]
    }
   ],
   "source": [
    "output_path = 'output_kalman.mp4'\n",
    "display_tracking_results(results_kalman, data_path, output_path)"
   ]
  },
  {
   "cell_type": "code",
   "execution_count": 19,
   "metadata": {},
   "outputs": [],
   "source": [
    "output_path = f'{sequence_yolo5l}_kalman.txt'\n",
    "\n",
    "save_tracking_results(results, output_path)"
   ]
  }
 ],
 "metadata": {
  "kernelspec": {
   "display_name": "mlvot",
   "language": "python",
   "name": "python3"
  },
  "language_info": {
   "codemirror_mode": {
    "name": "ipython",
    "version": 3
   },
   "file_extension": ".py",
   "mimetype": "text/x-python",
   "name": "python",
   "nbconvert_exporter": "python",
   "pygments_lexer": "ipython3",
   "version": "3.12.3"
  }
 },
 "nbformat": 4,
 "nbformat_minor": 2
}
